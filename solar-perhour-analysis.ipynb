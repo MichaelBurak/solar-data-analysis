{
 "cells": [
  {
   "cell_type": "markdown",
   "metadata": {
    "toc": true
   },
   "source": [
    "<h1>Table of Contents<span class=\"tocSkip\"></span></h1>\n",
    "<div class=\"toc\"><ul class=\"toc-item\"><li><span><a href=\"#Loading-in-libraries-and-data\" data-toc-modified-id=\"Loading-in-libraries-and-data-1\"><span class=\"toc-item-num\">1&nbsp;&nbsp;</span>Loading in libraries and data</a></span><ul class=\"toc-item\"><li><span><a href=\"#Renaming-columns\" data-toc-modified-id=\"Renaming-columns-1.1\"><span class=\"toc-item-num\">1.1&nbsp;&nbsp;</span>Renaming columns</a></span></li></ul></li><li><span><a href=\"#Time-series-indexed-dataframe-by-hour\" data-toc-modified-id=\"Time-series-indexed-dataframe-by-hour-2\"><span class=\"toc-item-num\">2&nbsp;&nbsp;</span>Time series indexed dataframe by hour</a></span><ul class=\"toc-item\"><li><span><a href=\"#Net-generation-plot\" data-toc-modified-id=\"Net-generation-plot-2.1\"><span class=\"toc-item-num\">2.1&nbsp;&nbsp;</span>Net generation plot</a></span></li></ul></li></ul></div>"
   ]
  },
  {
   "cell_type": "markdown",
   "metadata": {},
   "source": [
    "# Loading in libraries and data"
   ]
  },
  {
   "cell_type": "code",
   "execution_count": 1,
   "metadata": {
    "ExecuteTime": {
     "end_time": "2020-12-30T03:02:17.972929Z",
     "start_time": "2020-12-30T03:02:16.762519Z"
    }
   },
   "outputs": [],
   "source": [
    "import numpy as np\n",
    "import pandas as pd \n",
    "import matplotlib.pyplot as plt\n",
    "import seaborn as sns"
   ]
  },
  {
   "cell_type": "code",
   "execution_count": 26,
   "metadata": {
    "ExecuteTime": {
     "end_time": "2020-12-30T03:15:58.290923Z",
     "start_time": "2020-12-30T03:15:58.287923Z"
    }
   },
   "outputs": [],
   "source": [
    "import matplotlib.style as style\n",
    "style.use('fivethirtyeight')"
   ]
  },
  {
   "cell_type": "code",
   "execution_count": 9,
   "metadata": {
    "ExecuteTime": {
     "end_time": "2020-12-30T03:09:04.103855Z",
     "start_time": "2020-12-30T03:09:04.080117Z"
    }
   },
   "outputs": [
    {
     "data": {
      "text/html": [
       "<div>\n",
       "<style scoped>\n",
       "    .dataframe tbody tr th:only-of-type {\n",
       "        vertical-align: middle;\n",
       "    }\n",
       "\n",
       "    .dataframe tbody tr th {\n",
       "        vertical-align: top;\n",
       "    }\n",
       "\n",
       "    .dataframe thead th {\n",
       "        text-align: right;\n",
       "    }\n",
       "</style>\n",
       "<table border=\"1\" class=\"dataframe\">\n",
       "  <thead>\n",
       "    <tr style=\"text-align: right;\">\n",
       "      <th></th>\n",
       "      <th>Category</th>\n",
       "      <th>Series ID: EBA.US48-ALL.NG.SUN.H megawatthours</th>\n",
       "    </tr>\n",
       "  </thead>\n",
       "  <tbody>\n",
       "    <tr>\n",
       "      <th>0</th>\n",
       "      <td>12/29/2020 05H</td>\n",
       "      <td>50</td>\n",
       "    </tr>\n",
       "    <tr>\n",
       "      <th>1</th>\n",
       "      <td>12/29/2020 04H</td>\n",
       "      <td>63</td>\n",
       "    </tr>\n",
       "    <tr>\n",
       "      <th>2</th>\n",
       "      <td>12/29/2020 03H</td>\n",
       "      <td>73</td>\n",
       "    </tr>\n",
       "    <tr>\n",
       "      <th>3</th>\n",
       "      <td>12/29/2020 02H</td>\n",
       "      <td>76</td>\n",
       "    </tr>\n",
       "    <tr>\n",
       "      <th>4</th>\n",
       "      <td>12/29/2020 01H</td>\n",
       "      <td>117</td>\n",
       "    </tr>\n",
       "    <tr>\n",
       "      <th>5</th>\n",
       "      <td>12/29/2020 00H</td>\n",
       "      <td>2010</td>\n",
       "    </tr>\n",
       "    <tr>\n",
       "      <th>6</th>\n",
       "      <td>12/28/2020 23H</td>\n",
       "      <td>6394</td>\n",
       "    </tr>\n",
       "    <tr>\n",
       "      <th>7</th>\n",
       "      <td>12/28/2020 22H</td>\n",
       "      <td>10656</td>\n",
       "    </tr>\n",
       "    <tr>\n",
       "      <th>8</th>\n",
       "      <td>12/28/2020 21H</td>\n",
       "      <td>13931</td>\n",
       "    </tr>\n",
       "    <tr>\n",
       "      <th>9</th>\n",
       "      <td>12/28/2020 20H</td>\n",
       "      <td>16057</td>\n",
       "    </tr>\n",
       "  </tbody>\n",
       "</table>\n",
       "</div>"
      ],
      "text/plain": [
       "         Category  Series ID: EBA.US48-ALL.NG.SUN.H megawatthours\n",
       "0  12/29/2020 05H                                              50\n",
       "1  12/29/2020 04H                                              63\n",
       "2  12/29/2020 03H                                              73\n",
       "3  12/29/2020 02H                                              76\n",
       "4  12/29/2020 01H                                             117\n",
       "5  12/29/2020 00H                                            2010\n",
       "6  12/28/2020 23H                                            6394\n",
       "7  12/28/2020 22H                                           10656\n",
       "8  12/28/2020 21H                                           13931\n",
       "9  12/28/2020 20H                                           16057"
      ]
     },
     "execution_count": 9,
     "metadata": {},
     "output_type": "execute_result"
    }
   ],
   "source": [
    "df = pd.read_csv('solar-net-generation.csv', skiprows=4)\n",
    "\n",
    "df.head(10)"
   ]
  },
  {
   "cell_type": "markdown",
   "metadata": {},
   "source": [
    "## Renaming columns"
   ]
  },
  {
   "cell_type": "code",
   "execution_count": 13,
   "metadata": {
    "ExecuteTime": {
     "end_time": "2020-12-30T03:10:14.895474Z",
     "start_time": "2020-12-30T03:10:14.890057Z"
    }
   },
   "outputs": [],
   "source": [
    "df = df.rename(columns={'Category':'Timestamp', 'Series ID: EBA.US48-ALL.NG.SUN.H megawatthours': 'Megawatthours'})"
   ]
  },
  {
   "cell_type": "code",
   "execution_count": 14,
   "metadata": {
    "ExecuteTime": {
     "end_time": "2020-12-30T03:10:18.253060Z",
     "start_time": "2020-12-30T03:10:18.245318Z"
    }
   },
   "outputs": [
    {
     "data": {
      "text/html": [
       "<div>\n",
       "<style scoped>\n",
       "    .dataframe tbody tr th:only-of-type {\n",
       "        vertical-align: middle;\n",
       "    }\n",
       "\n",
       "    .dataframe tbody tr th {\n",
       "        vertical-align: top;\n",
       "    }\n",
       "\n",
       "    .dataframe thead th {\n",
       "        text-align: right;\n",
       "    }\n",
       "</style>\n",
       "<table border=\"1\" class=\"dataframe\">\n",
       "  <thead>\n",
       "    <tr style=\"text-align: right;\">\n",
       "      <th></th>\n",
       "      <th>Timestamp</th>\n",
       "      <th>Megawatthours</th>\n",
       "    </tr>\n",
       "  </thead>\n",
       "  <tbody>\n",
       "    <tr>\n",
       "      <th>0</th>\n",
       "      <td>12/29/2020 05H</td>\n",
       "      <td>50</td>\n",
       "    </tr>\n",
       "    <tr>\n",
       "      <th>1</th>\n",
       "      <td>12/29/2020 04H</td>\n",
       "      <td>63</td>\n",
       "    </tr>\n",
       "    <tr>\n",
       "      <th>2</th>\n",
       "      <td>12/29/2020 03H</td>\n",
       "      <td>73</td>\n",
       "    </tr>\n",
       "    <tr>\n",
       "      <th>3</th>\n",
       "      <td>12/29/2020 02H</td>\n",
       "      <td>76</td>\n",
       "    </tr>\n",
       "    <tr>\n",
       "      <th>4</th>\n",
       "      <td>12/29/2020 01H</td>\n",
       "      <td>117</td>\n",
       "    </tr>\n",
       "    <tr>\n",
       "      <th>5</th>\n",
       "      <td>12/29/2020 00H</td>\n",
       "      <td>2010</td>\n",
       "    </tr>\n",
       "    <tr>\n",
       "      <th>6</th>\n",
       "      <td>12/28/2020 23H</td>\n",
       "      <td>6394</td>\n",
       "    </tr>\n",
       "    <tr>\n",
       "      <th>7</th>\n",
       "      <td>12/28/2020 22H</td>\n",
       "      <td>10656</td>\n",
       "    </tr>\n",
       "    <tr>\n",
       "      <th>8</th>\n",
       "      <td>12/28/2020 21H</td>\n",
       "      <td>13931</td>\n",
       "    </tr>\n",
       "    <tr>\n",
       "      <th>9</th>\n",
       "      <td>12/28/2020 20H</td>\n",
       "      <td>16057</td>\n",
       "    </tr>\n",
       "  </tbody>\n",
       "</table>\n",
       "</div>"
      ],
      "text/plain": [
       "        Timestamp  Megawatthours\n",
       "0  12/29/2020 05H             50\n",
       "1  12/29/2020 04H             63\n",
       "2  12/29/2020 03H             73\n",
       "3  12/29/2020 02H             76\n",
       "4  12/29/2020 01H            117\n",
       "5  12/29/2020 00H           2010\n",
       "6  12/28/2020 23H           6394\n",
       "7  12/28/2020 22H          10656\n",
       "8  12/28/2020 21H          13931\n",
       "9  12/28/2020 20H          16057"
      ]
     },
     "execution_count": 14,
     "metadata": {},
     "output_type": "execute_result"
    }
   ],
   "source": [
    "df.head(10)"
   ]
  },
  {
   "cell_type": "markdown",
   "metadata": {},
   "source": [
    "# Time series indexed dataframe by hour"
   ]
  },
  {
   "cell_type": "code",
   "execution_count": 17,
   "metadata": {
    "ExecuteTime": {
     "end_time": "2020-12-30T03:11:18.979099Z",
     "start_time": "2020-12-30T03:11:17.371485Z"
    }
   },
   "outputs": [],
   "source": [
    "df['Timestamp'] = pd.to_datetime(df['Timestamp'])"
   ]
  },
  {
   "cell_type": "code",
   "execution_count": 24,
   "metadata": {
    "ExecuteTime": {
     "end_time": "2020-12-30T03:14:32.599924Z",
     "start_time": "2020-12-30T03:14:32.591197Z"
    }
   },
   "outputs": [
    {
     "data": {
      "text/html": [
       "<div>\n",
       "<style scoped>\n",
       "    .dataframe tbody tr th:only-of-type {\n",
       "        vertical-align: middle;\n",
       "    }\n",
       "\n",
       "    .dataframe tbody tr th {\n",
       "        vertical-align: top;\n",
       "    }\n",
       "\n",
       "    .dataframe thead th {\n",
       "        text-align: right;\n",
       "    }\n",
       "</style>\n",
       "<table border=\"1\" class=\"dataframe\">\n",
       "  <thead>\n",
       "    <tr style=\"text-align: right;\">\n",
       "      <th></th>\n",
       "      <th>Megawatthours</th>\n",
       "    </tr>\n",
       "    <tr>\n",
       "      <th>Timestamp</th>\n",
       "      <th></th>\n",
       "    </tr>\n",
       "  </thead>\n",
       "  <tbody>\n",
       "    <tr>\n",
       "      <th>2020-12-29 05:00:00</th>\n",
       "      <td>50</td>\n",
       "    </tr>\n",
       "    <tr>\n",
       "      <th>2020-12-29 04:00:00</th>\n",
       "      <td>63</td>\n",
       "    </tr>\n",
       "    <tr>\n",
       "      <th>2020-12-29 03:00:00</th>\n",
       "      <td>73</td>\n",
       "    </tr>\n",
       "    <tr>\n",
       "      <th>2020-12-29 02:00:00</th>\n",
       "      <td>76</td>\n",
       "    </tr>\n",
       "    <tr>\n",
       "      <th>2020-12-29 01:00:00</th>\n",
       "      <td>117</td>\n",
       "    </tr>\n",
       "    <tr>\n",
       "      <th>2020-12-29 00:00:00</th>\n",
       "      <td>2010</td>\n",
       "    </tr>\n",
       "    <tr>\n",
       "      <th>2020-12-28 23:00:00</th>\n",
       "      <td>6394</td>\n",
       "    </tr>\n",
       "    <tr>\n",
       "      <th>2020-12-28 22:00:00</th>\n",
       "      <td>10656</td>\n",
       "    </tr>\n",
       "    <tr>\n",
       "      <th>2020-12-28 21:00:00</th>\n",
       "      <td>13931</td>\n",
       "    </tr>\n",
       "    <tr>\n",
       "      <th>2020-12-28 20:00:00</th>\n",
       "      <td>16057</td>\n",
       "    </tr>\n",
       "  </tbody>\n",
       "</table>\n",
       "</div>"
      ],
      "text/plain": [
       "                     Megawatthours\n",
       "Timestamp                         \n",
       "2020-12-29 05:00:00             50\n",
       "2020-12-29 04:00:00             63\n",
       "2020-12-29 03:00:00             73\n",
       "2020-12-29 02:00:00             76\n",
       "2020-12-29 01:00:00            117\n",
       "2020-12-29 00:00:00           2010\n",
       "2020-12-28 23:00:00           6394\n",
       "2020-12-28 22:00:00          10656\n",
       "2020-12-28 21:00:00          13931\n",
       "2020-12-28 20:00:00          16057"
      ]
     },
     "execution_count": 24,
     "metadata": {},
     "output_type": "execute_result"
    }
   ],
   "source": [
    "time_df = df.copy()\n",
    "\n",
    "time_df = time_df.set_index(\"Timestamp\")\n",
    "\n",
    "time_df.head(10)"
   ]
  },
  {
   "cell_type": "markdown",
   "metadata": {},
   "source": [
    "## Net generation plot"
   ]
  },
  {
   "cell_type": "code",
   "execution_count": 32,
   "metadata": {
    "ExecuteTime": {
     "end_time": "2020-12-30T03:21:12.530317Z",
     "start_time": "2020-12-30T03:21:12.037745Z"
    }
   },
   "outputs": [
    {
     "data": {
      "image/png": "[encoded data removed]",
      "text/plain": [
       "<Figure size 432x288 with 1 Axes>"
      ]
     },
     "metadata": {},
     "output_type": "display_data"
    }
   ],
   "source": [
    "time_df.plot()\n",
    "\n",
    "fig = plt.gcf()\n",
    "ax = plt.gca() \n",
    "\n",
    "ax.set_title(\"Net generation from solar for US Lower 48, 2018 through 2020\")\n",
    "ax.set_ylabel(\"Megawatt Hours\")\n",
    "ax.set_xlabel(\"\")\n",
    "ax.get_legend().remove()\n",
    "fig.savefig(\"Netgen20182020solar.png\",bbox_inches='tight')"
   ]
  },
  {
   "cell_type": "code",
   "execution_count": null,
   "metadata": {},
   "outputs": [],
   "source": []
  }
 ],
 "metadata": {
  "kernelspec": {
   "display_name": "Python [conda env:learn-env] *",
   "language": "python",
   "name": "conda-env-learn-env-py"
  },
  "language_info": {
   "codemirror_mode": {
    "name": "ipython",
    "version": 3
   },
   "file_extension": ".py",
   "mimetype": "text/x-python",
   "name": "python",
   "nbconvert_exporter": "python",
   "pygments_lexer": "ipython3",
   "version": "3.6.9"
  },
  "toc": {
   "base_numbering": 1,
   "nav_menu": {},
   "number_sections": true,
   "sideBar": true,
   "skip_h1_title": false,
   "title_cell": "Table of Contents",
   "title_sidebar": "Contents",
   "toc_cell": true,
   "toc_position": {},
   "toc_section_display": true,
   "toc_window_display": true
  }
 },
 "nbformat": 4,
 "nbformat_minor": 2
}
